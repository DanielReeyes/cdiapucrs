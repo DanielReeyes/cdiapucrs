{
 "cells": [
  {
   "cell_type": "code",
   "execution_count": null,
   "metadata": {
    "id": "NCk0lmYdOH1e"
   },
   "outputs": [],
   "source": [
    "import torch\n",
    "import torch.nn as nn\n",
    "import torch.optim as optim\n",
    "\n",
    "import math\n",
    "import random\n",
    "import numpy as np"
   ]
  },
  {
   "cell_type": "code",
   "execution_count": null,
   "metadata": {
    "id": "cs89fAPkQNms"
   },
   "outputs": [],
   "source": [
    "class Tokenizer:\n",
    "\n",
    "  def __init__(self):\n",
    "    self.dicionario = {}\n",
    "    self.dicionario_inverso = {}\n",
    "    self.token_desconhecido = 1\n",
    "    self.token_padding = 0\n",
    "    self.token_sos = 2\n",
    "    self.token_eos = 3\n",
    "    self.max_len = 0\n",
    "\n",
    "  def fit(self, dataset):\n",
    "    # Armazena todas as palavras únicas em um dataset de texto\n",
    "    indice = 4\n",
    "    for texto in dataset:\n",
    "      palavras = texto.split(' ')\n",
    "      self.max_len = len(palavras) + 2 if len(palavras) + 2 > self.max_len else self.max_len\n",
    "      for palavra in palavras:\n",
    "        if palavra not in self.dicionario:\n",
    "          self.dicionario[palavra] = indice\n",
    "          indice += 1\n",
    "\n",
    "    self.dicionario_inverso = { \n",
    "      valor: chave for chave, valor in self.dicionario.items() \n",
    "    }\n",
    "\n",
    "  def encode(self, texto):\n",
    "    # Converte texto para tokens (inteiros)\n",
    "    tokens = texto.split(' ')\n",
    "    texto_tokenizado = [self.token_sos]\n",
    "    for token in tokens:\n",
    "      if token not in self.dicionario:\n",
    "        texto_tokenizado.append(self.token_desconhecido)\n",
    "      else:\n",
    "        texto_tokenizado.append(self.dicionario[token])\n",
    "        \n",
    "    texto_tokenizado.append(self.token_eos)\n",
    "\n",
    "    for _ in range(self.max_len - len(texto_tokenizado)):\n",
    "      texto_tokenizado.append(self.token_padding)\n",
    "  \n",
    "    return texto_tokenizado\n",
    "\n",
    "  def decode(self, tokens):\n",
    "    # Converte tokens para texto\n",
    "    texto = []\n",
    "    for token in tokens:\n",
    "      if token not in self.dicionario_inverso:\n",
    "        texto.append(self.token_desconhecido)\n",
    "      else:\n",
    "        texto.append(self.dicionario_inverso[token])\n",
    "    return ' '.join(texto)\n",
    "\n",
    "  def save(self):\n",
    "    # armazena o dicionario usando json\n",
    "    with open('dicionario.json', 'w') as f:\n",
    "      json.dump(self.dicionario, f)\n",
    "    with open('dicionario_inverso.json', 'w') as f:\n",
    "      json.dump(self.dicionario_inverso, f)\n",
    "\n",
    "  def load(self):\n",
    "    # carrega o dicionario usando json\n",
    "    with open('dicionario.json', 'r') as f:\n",
    "      self.dicionario = json.load(f)\n",
    "    with open('dicionario_inverso.json', 'r') as f:\n",
    "      self.dicionario_inverso = json.load(f)"
   ]
  },
  {
   "cell_type": "code",
   "execution_count": null,
   "metadata": {
    "id": "Q8Iv5yDmQQc1"
   },
   "outputs": [],
   "source": [
    "dataset = [\n",
    "  \"bom celular\",\n",
    "  \"sol, choveu durante o dia\",\n",
    "  \"bom dia, não gostei disso\"\n",
    "]\n",
    "\n",
    "tokenizer = Tokenizer()\n",
    "tokenizer.fit(dataset)\n",
    "tokenized_dataset = [tokenizer.encode(x) for x in dataset]\n",
    "tokenizer.encode(dataset[1])"
   ]
  },
  {
   "cell_type": "code",
   "execution_count": null,
   "metadata": {
    "id": "JNmMrbhxOK1e"
   },
   "outputs": [],
   "source": [
    "class PositionalEncoding(nn.Module):\n",
    "    def __init__(self, dim_model, dropout_p, max_len):\n",
    "        super().__init__()\n",
    "        \n",
    "        self.dropout = nn.Dropout(dropout_p)\n",
    "\n",
    "        pos_encoding = torch.zeros(max_len, dim_model)\n",
    "        positions_list = torch.arange(0, max_len, dtype=torch.float).view(-1, 1) # 0, 1, 2, 3, 4, 5\n",
    "        division_term = torch.exp(torch.arange(0, dim_model, 2).float() * (-math.log(10000.0)) / dim_model) # 1000^(2i/dim_model)\n",
    "\n",
    "        pos_encoding[:, 0::2] = torch.sin(positions_list * division_term)\n",
    "        pos_encoding[:, 1::2] = torch.cos(positions_list * division_term)\n",
    "        \n",
    "        pos_encoding = pos_encoding.unsqueeze(0).transpose(0, 1)\n",
    "        self.register_buffer(\"pos_encoding\", pos_encoding)\n",
    "        \n",
    "    def forward(self, token_embedding: torch.tensor) -> torch.tensor:\n",
    "        # Residual connection + pos encoding\n",
    "        return self.dropout(token_embedding + self.pos_encoding[:token_embedding.size(0), :])"
   ]
  },
  {
   "cell_type": "code",
   "execution_count": null,
   "metadata": {
    "id": "0h6J6aIXOO-W"
   },
   "outputs": [],
   "source": [
    "class Transformer(nn.Module):\n",
    "    def __init__(\n",
    "        self,\n",
    "        num_tokens,\n",
    "        dim_model,\n",
    "        num_heads,\n",
    "        num_encoder_layers,\n",
    "        num_decoder_layers,\n",
    "        dropout_p,\n",
    "    ):\n",
    "      super().__init__()\n",
    "      self.dim_model = dim_model\n",
    "\n",
    "      self.positional_encoder = PositionalEncoding(\n",
    "          dim_model=dim_model,\n",
    "          dropout_p=dropout_p,\n",
    "          max_len=5000\n",
    "      )\n",
    "\n",
    "      self.embedding = nn.Embedding(num_tokens, dim_model)\n",
    "\n",
    "      self.transformer = nn.Transformer(\n",
    "          d_model=dim_model,\n",
    "          nhead=num_heads,\n",
    "          num_encoder_layers=num_encoder_layers,\n",
    "          num_decoder_layers=num_decoder_layers,\n",
    "          dropout=dropout_p\n",
    "      )\n",
    "\n",
    "      self.output = nn.Linear(dim_model, num_tokens)\n",
    "        \n",
    "    def forward(self, src, tgt, tgt_mask=None, src_pad_mask=None, tgt_pad_mask=None):\n",
    "      src = self.embedding(src) * math.sqrt(self.dim_model)\n",
    "      tgt = self.embedding(tgt) * math.sqrt(self.dim_model)\n",
    "      src = self.positional_encoder(src)\n",
    "      tgt = self.positional_encoder(tgt)\n",
    "\n",
    "      src = src.permute(1, 0, 2)\n",
    "      tgt = tgt.permute(1, 0, 2)\n",
    "\n",
    "      output_transformer = self.transformer(\n",
    "          src,\n",
    "          tgt,\n",
    "          tgt_mask=tgt_mask,\n",
    "          src_key_padding_mask=src_pad_mask,\n",
    "          tgt_key_padding_mask=tgt_pad_mask\n",
    "      )\n",
    "      output = self.output(output_transformer)\n",
    "      return output\n",
    "      \n",
    "    def get_tgt_mask(self, size) -> torch.tensor:\n",
    "      mask = torch.tril(torch.ones(size, size))\n",
    "      mask = mask.masked_fill(mask == 0, float('-inf'))\n",
    "      mask = mask.masked_fill(mask == 1, float(0.0))\n",
    "      return mask"
   ]
  },
  {
   "cell_type": "code",
   "execution_count": null,
   "metadata": {
    "id": "pvlh5eIcOwV5"
   },
   "outputs": [],
   "source": [
    "device = \"cuda\" if torch.cuda.is_available() else \"cpu\"\n",
    "model = Transformer(\n",
    "    num_tokens=len(tokenizer.dicionario.keys()) + 4,\n",
    "    dim_model=32, \n",
    "    num_heads=2, \n",
    "    num_encoder_layers=3, \n",
    "    num_decoder_layers=3, \n",
    "    dropout_p=0.1\n",
    ").to(device)\n",
    "opt = torch.optim.SGD(model.parameters(), lr=0.01)\n",
    "loss_fn = nn.CrossEntropyLoss()"
   ]
  },
  {
   "cell_type": "code",
   "execution_count": null,
   "metadata": {
    "id": "c5BtMYoOOyQR"
   },
   "outputs": [],
   "source": [
    "model.train()\n",
    "for _ in range(500):\n",
    "  for sentence in tokenized_dataset:\n",
    "      X, y = sentence, sentence\n",
    "      X, y = torch.tensor(X).to(device)[None], torch.tensor(y).to(device)[None]\n",
    "\n",
    "      y_input = y[:,:-1]\n",
    "      y_expected = y[:,1:]\n",
    "      \n",
    "      sequence_length = y_input.size(1)\n",
    "      tgt_mask = model.get_tgt_mask(sequence_length).to(device)\n",
    "\n",
    "      pred = model(X, y_input, tgt_mask)\n",
    "\n",
    "      pred = pred.permute(1, 2, 0)      \n",
    "      loss = loss_fn(pred, y_expected)\n",
    "\n",
    "      opt.zero_grad()\n",
    "      loss.backward()\n",
    "      opt.step()"
   ]
  },
  {
   "cell_type": "code",
   "execution_count": null,
   "metadata": {
    "id": "LQmdPH12O8cI"
   },
   "outputs": [],
   "source": [
    "model.eval()\n",
    "\n",
    "x = torch.tensor([[2, 6]], device=device)\n",
    "y_input = torch.tensor([[2]], dtype=torch.long, device=device)\n",
    "\n",
    "for _ in range(7):\n",
    "    tgt_mask = model.get_tgt_mask(y_input.size(1)).to(device)\n",
    "    \n",
    "    pred = model(x, y_input, tgt_mask)\n",
    "    \n",
    "    next_item = torch.argmax(pred, 2)[-1].item()\n",
    "    next_item = torch.tensor([[next_item]], device=device)\n",
    "\n",
    "    y_input = torch.cat((y_input, next_item), dim=1)\n",
    "\n",
    "    if next_item.view(-1).item() == 3:\n",
    "        break\n",
    "\n",
    "tokenizer.decode(y_input[0, 1:-1].cpu().numpy())"
   ]
  }
 ],
 "metadata": {
  "accelerator": "GPU",
  "colab": {
   "collapsed_sections": [],
   "name": "Aula 5 - FEITO.ipynb",
   "provenance": []
  },
  "kernelspec": {
   "display_name": "Python 3",
   "language": "python",
   "name": "python3"
  },
  "language_info": {
   "codemirror_mode": {
    "name": "ipython",
    "version": 3
   },
   "file_extension": ".py",
   "mimetype": "text/x-python",
   "name": "python",
   "nbconvert_exporter": "python",
   "pygments_lexer": "ipython3",
   "version": "3.7.3"
  }
 },
 "nbformat": 4,
 "nbformat_minor": 1
}
