{
 "cells": [
  {
   "cell_type": "markdown",
   "metadata": {
    "id": "qACnS7Vlx7F0"
   },
   "source": [
    "# PyTorch"
   ]
  },
  {
   "cell_type": "code",
   "execution_count": null,
   "metadata": {
    "id": "NCk0lmYdOH1e"
   },
   "outputs": [],
   "source": [
    "import torch\n",
    "import torch.nn as nn\n",
    "import torch.nn.functional as F\n",
    "import torch.optim as optim\n",
    "import torchvision\n",
    "import torchvision.transforms as transforms\n",
    "\n",
    "from torch.utils.data import random_split\n",
    "\n",
    "from tqdm import tqdm"
   ]
  },
  {
   "cell_type": "code",
   "execution_count": null,
   "metadata": {
    "id": "1fPVcycRo8NE"
   },
   "outputs": [],
   "source": [
    "transform = transforms.Compose([transforms.ToTensor(), transforms.Normalize((0.5, 0.5, 0.5), (0.5, 0.5, 0.5))])\n",
    "trainset = torchvision.datasets.CIFAR10(root='./data', train=True, download=True, transform=transform)\n",
    "train, val = random_split(trainset, [int(len(trainset) * 0.7), int(len(trainset) * 0.3)])\n",
    "\n",
    "trainloader = torch.utils.data.DataLoader(train, batch_size=128, shuffle=True, num_workers=2)\n",
    "valloader = torch.utils.data.DataLoader(val, batch_size=128, shuffle=True, num_workers=2)\n",
    "\n",
    "print(f'Tamanho do treino: {len(train)}')\n",
    "print(f'Tamanho da validação: {len(val)}')"
   ]
  },
  {
   "cell_type": "code",
   "execution_count": null,
   "metadata": {
    "id": "mDbO_1KMrxYk"
   },
   "outputs": [],
   "source": [
    "testset = torchvision.datasets.CIFAR10(root='./data', train=False, download=True, transform=transform)\n",
    "testloader = torch.utils.data.DataLoader(testset, batch_size=128, shuffle=False, num_workers=2)\n",
    "\n",
    "print(f'Tamanho da Teste: {len(testset)}')"
   ]
  },
  {
   "cell_type": "code",
   "execution_count": null,
   "metadata": {
    "id": "EbVwhfwCpj2F"
   },
   "outputs": [],
   "source": [
    "classes = ('plane', 'car', 'bird', 'cat', 'deer', 'dog', 'frog', 'horse', 'ship', 'truck')"
   ]
  },
  {
   "cell_type": "code",
   "execution_count": null,
   "metadata": {
    "id": "LwNYZbB4pqNN"
   },
   "outputs": [],
   "source": [
    "import matplotlib.pyplot as plt\n",
    "import numpy as np\n",
    "\n",
    "def imshow(img):\n",
    "    img = img / 2 + 0.5\n",
    "    npimg = img.numpy()\n",
    "    plt.imshow(np.transpose(npimg, (1, 2, 0)))\n",
    "    plt.show()\n",
    "\n",
    "dataiter = iter(trainloader)\n",
    "images, labels = dataiter.next()\n",
    "\n",
    "imshow(torchvision.utils.make_grid(images))"
   ]
  },
  {
   "cell_type": "code",
   "execution_count": null,
   "metadata": {
    "id": "58gEfIKZpzy5"
   },
   "outputs": [],
   "source": [
    "import torch.nn as nn\n",
    "import torch.nn.functional as F\n",
    "\n",
    "\n",
    "class Net(nn.Module):\n",
    "    def __init__(self):\n",
    "        super().__init__()\n",
    "        self.conv1 = nn.Conv2d(3, 6, 5)\n",
    "        self.pool = nn.MaxPool2d(2, 2)\n",
    "        self.conv2 = nn.Conv2d(6, 16, 5)\n",
    "        self.fc1 = nn.Linear(16 * 5 * 5, 120)\n",
    "        self.fc2 = nn.Linear(120, 84)\n",
    "        self.fc3 = nn.Linear(84, 10)\n",
    "\n",
    "    def forward(self, x):\n",
    "        x = self.pool(F.relu(self.conv1(x)))\n",
    "        x = self.pool(F.relu(self.conv2(x)))\n",
    "        x = torch.flatten(x, 1)\n",
    "        x = F.relu(self.fc1(x))\n",
    "        x = F.relu(self.fc2(x))\n",
    "        x = self.fc3(x)\n",
    "        return x"
   ]
  },
  {
   "cell_type": "code",
   "execution_count": null,
   "metadata": {
    "id": "s8z6Grn_p1sw"
   },
   "outputs": [],
   "source": [
    "import torch.optim as optim\n",
    "\n",
    "device = torch.device('cuda' if torch.cuda.is_available() else 'cpu')\n",
    "net = Net().to(device)\n",
    "\n",
    "criterion = nn.CrossEntropyLoss()\n",
    "optimizer = optim.Adam(net.parameters(), lr=1e-3)"
   ]
  },
  {
   "cell_type": "code",
   "execution_count": null,
   "metadata": {
    "id": "M-lrqF-Yp5WH"
   },
   "outputs": [],
   "source": [
    "net.train()\n",
    "\n",
    "best_val_acc = 0\n",
    "for epoch in range(10):\n",
    "    for dataloader, training in zip([trainloader, valloader], [True, False]):\n",
    "        epoch_loss, epoch_acc = [], []\n",
    "        pbar = tqdm(dataloader)\n",
    "        for data in pbar:\n",
    "            pbar.set_description_str(f'Training {epoch}' if training else f'Validation {epoch}')\n",
    "            inputs, labels = data\n",
    "            inputs = inputs.to(device)\n",
    "            labels = labels.to(device)\n",
    "\n",
    "            optimizer.zero_grad()\n",
    "            outputs = net(inputs)\n",
    "\n",
    "            loss = criterion(outputs, labels)\n",
    "            if training:\n",
    "                loss.backward()\n",
    "                optimizer.step()\n",
    "              \n",
    "            acc = ((torch.argmax(outputs, 1) == labels).sum().item() / labels.shape[0]) * 100\n",
    "\n",
    "            epoch_acc.append(acc)\n",
    "            epoch_loss.append(loss.item())\n",
    "            pbar.set_postfix_str(f'Loss: {np.mean(epoch_loss)} Acc: {np.mean(epoch_acc)}')\n",
    "\n",
    "        if not training and best_val_acc < np.mean(epoch_acc):\n",
    "            torch.save(net.state_dict(), 'net.ckpt')\n",
    "            best_vall_acc = np.mean(epoch_acc)\n",
    "            \n",
    "print('\\nFinished Training')"
   ]
  },
  {
   "cell_type": "code",
   "execution_count": null,
   "metadata": {
    "id": "EnaKkjrAw7lp"
   },
   "outputs": [],
   "source": [
    "net = Net()\n",
    "net.load_state_dict(torch.load('net.ckpt'))\n",
    "net.to(device)\n",
    "net.eval()\n",
    "\n",
    "epoch_acc = []\n",
    "for data in tqdm(testloader):\n",
    "    inputs, labels = data\n",
    "    inputs = inputs.to(device)\n",
    "    labels = labels.to(device)\n",
    "\n",
    "    with torch.no_grad():\n",
    "      outputs = net(inputs)      \n",
    "    acc = ((torch.argmax(outputs, 1) == labels).sum().item() / labels.shape[0]) * 100\n",
    "    epoch_acc.append(acc)\n",
    "f'Test Acc: {np.mean(epoch_acc)}'"
   ]
  },
  {
   "cell_type": "markdown",
   "metadata": {
    "id": "Orm5OZFix-wp"
   },
   "source": [
    "# PyTorch Lightning"
   ]
  },
  {
   "cell_type": "code",
   "execution_count": null,
   "metadata": {
    "id": "zpK3TDBwx4J-"
   },
   "outputs": [],
   "source": [
    "%%capture\n",
    "!pip install pytorch-lightning"
   ]
  },
  {
   "cell_type": "code",
   "execution_count": null,
   "metadata": {
    "id": "t_0t5A2EyJBM"
   },
   "outputs": [],
   "source": [
    "from torchvision.datasets import CIFAR10\n",
    "from torch.utils.data import DataLoader\n",
    "import pytorch_lightning as pl\n",
    "import torchmetrics"
   ]
  },
  {
   "cell_type": "code",
   "execution_count": null,
   "metadata": {
    "id": "ifZwM34byQh1"
   },
   "outputs": [],
   "source": [
    "class CIFARDataModule(pl.LightningDataModule):\n",
    "    def __init__(self, batch_size=64, transform=None):\n",
    "        super().__init__()\n",
    "        self.batch_size = batch_size\n",
    "        self.transform = transform\n",
    "\n",
    "    def prepare_data(self):\n",
    "        # download only\n",
    "        CIFAR10(root='data', train=True, download=True)\n",
    "        CIFAR10(root='data', train=False, download=True)\n",
    "\n",
    "    def setup(self, stage):\n",
    "        training_dataset = CIFAR10('data', train=True, download=False, transform=self.transform)\n",
    "        test_dataset = CIFAR10('data', train=False, download=False, transform=self.transform)\n",
    "\n",
    "        # train/val split\n",
    "        train, val = random_split(training_dataset, [int(len(training_dataset) * 0.7), int(len(training_dataset) * 0.3)])\n",
    "\n",
    "        # assign to use in dataloaders\n",
    "        self.train_dataset = train\n",
    "        self.val_dataset = val\n",
    "        self.test_dataset = test_dataset\n",
    "\n",
    "    def train_dataloader(self):\n",
    "        return DataLoader(self.train_dataset, batch_size=self.batch_size)\n",
    "\n",
    "    def val_dataloader(self):\n",
    "        return DataLoader(self.val_dataset, batch_size=self.batch_size)\n",
    "\n",
    "    def test_dataloader(self):\n",
    "        return DataLoader(self.test_dataset, batch_size=self.batch_size)"
   ]
  },
  {
   "cell_type": "code",
   "execution_count": null,
   "metadata": {
    "id": "MlxwkhYgzJQB"
   },
   "outputs": [],
   "source": [
    "class Net(pl.LightningModule):\n",
    "    def __init__(self):\n",
    "        super().__init__()\n",
    "        self.conv1 = nn.Conv2d(3, 6, 5)\n",
    "        self.pool = nn.MaxPool2d(2, 2)\n",
    "        self.conv2 = nn.Conv2d(6, 16, 5)\n",
    "        self.fc1 = nn.Linear(16 * 5 * 5, 120)\n",
    "        self.fc2 = nn.Linear(120, 84)\n",
    "        self.fc3 = nn.Linear(84, 10)\n",
    "\n",
    "        self.train_acc = pl.metrics.Accuracy()\n",
    "        self.val_acc = pl.metrics.Accuracy()\n",
    "        self.criterion = nn.CrossEntropyLoss()\n",
    "\n",
    "    def forward(self, x):\n",
    "        x = self.pool(F.relu(self.conv1(x)))\n",
    "        x = self.pool(F.relu(self.conv2(x)))\n",
    "        x = torch.flatten(x, 1)\n",
    "        x = F.relu(self.fc1(x))\n",
    "        x = F.relu(self.fc2(x))\n",
    "        x = self.fc3(x)\n",
    "        return x\n",
    "\n",
    "    def configure_optimizers(self):\n",
    "        optimizer = optim.Adam(self.parameters(), lr=1e-3)\n",
    "        return optimizer\n",
    "\n",
    "    def training_step(self, batch, batch_idx):\n",
    "        inputs, labels = batch\n",
    "        outputs = self.forward(inputs)\n",
    "\n",
    "        loss = self.criterion(outputs, labels)          \n",
    "        acc = self.train_acc(outputs, labels)\n",
    "        self.log('train/loss', loss)\n",
    "        self.log('train/accuracy', acc, prog_bar=True)\n",
    "        return loss\n",
    "    \n",
    "    def training_epoch_end(self, training_step_outputs):\n",
    "        training_acc = self.train_acc.compute()\n",
    "        self.log('train/full_data_accuracy', training_acc)\n",
    "\n",
    "    def validation_step(self, batch, batch_idx):\n",
    "        inputs, labels = batch\n",
    "        outputs = self.forward(inputs)\n",
    "\n",
    "        loss = self.criterion(outputs, labels)\n",
    "        acc = self.val_acc(outputs, labels)\n",
    "        self.log('val/loss', loss)\n",
    "        return loss\n",
    "\n",
    "    def validation_epoch_end(self, val_step_outputs):\n",
    "        val_acc = self.val_acc.compute()\n",
    "        self.log('val/full_data_accuracy', val_acc)"
   ]
  },
  {
   "cell_type": "code",
   "execution_count": null,
   "metadata": {
    "id": "D_WeHkqJ0R27"
   },
   "outputs": [],
   "source": [
    "model = Net()\n",
    "\n",
    "transform = transforms.Compose([\n",
    "      transforms.ToTensor(), \n",
    "      transforms.Normalize((0.5, 0.5, 0.5), (0.5, 0.5, 0.5))\n",
    "])\n",
    "cifar_dm = CIFARDataModule(transform=transform)\n",
    "\n",
    "trainer = pl.Trainer(max_epochs=5, gpus=0)\n",
    "trainer.fit(model, cifar_dm)"
   ]
  },
  {
   "cell_type": "code",
   "execution_count": null,
   "metadata": {
    "id": "RW5awtey19rT"
   },
   "outputs": [],
   "source": [
    "trainer.test(test_dataloaders=cifar_dm.test_dataloader())"
   ]
  },
  {
   "cell_type": "code",
   "execution_count": null,
   "metadata": {
    "id": "LQwUVf9w4AJC"
   },
   "outputs": [],
   "source": [
    "%load_ext tensorboard\n",
    "%tensorboard --logdir lightning_logs/"
   ]
  }
 ],
 "metadata": {
  "accelerator": "GPU",
  "colab": {
   "collapsed_sections": [],
   "name": "Aula 6 - FEITO.ipynb",
   "provenance": []
  },
  "kernelspec": {
   "display_name": "Python 3",
   "language": "python",
   "name": "python3"
  },
  "language_info": {
   "codemirror_mode": {
    "name": "ipython",
    "version": 3
   },
   "file_extension": ".py",
   "mimetype": "text/x-python",
   "name": "python",
   "nbconvert_exporter": "python",
   "pygments_lexer": "ipython3",
   "version": "3.7.3"
  }
 },
 "nbformat": 4,
 "nbformat_minor": 1
}
